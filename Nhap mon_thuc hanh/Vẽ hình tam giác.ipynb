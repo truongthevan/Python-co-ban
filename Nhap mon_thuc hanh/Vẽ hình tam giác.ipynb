{
 "cells": [
  {
   "cell_type": "markdown",
   "id": "924e6df8",
   "metadata": {},
   "source": [
    "# vẽ hình tam giac"
   ]
  },
  {
   "cell_type": "code",
   "execution_count": 3,
   "id": "e1f713ed",
   "metadata": {},
   "outputs": [
    {
     "name": "stdout",
     "output_type": "stream",
     "text": [
      "please input màu: red\n",
      "please input mau vien: yellow\n",
      "please input chieu dai canh: 100\n"
     ]
    }
   ],
   "source": [
    "mau_tam_giac = input(\"please input màu: \")\n",
    "mau_vien = input(\"please input mau vien: \")\n",
    "chieu_dai_canh = int(input(\"please input chieu dai canh: \"))\n",
    "\n",
    "import turtle\n",
    "turtle.Turtle()\n",
    "\n",
    "turtle.pencolor(mau_vien) #fill màu viền\n",
    "turtle.fillcolor(mau_tam_giac)#fill màu tam giác\n",
    "\n",
    "turtle.begin_fill()\n",
    "\n",
    "for _ in range(3):\n",
    "    turtle.forward(chieu_dai_canh)\n",
    "    turtle.left(120)\n",
    "    \n",
    "turtle.end_fill()\n",
    "\n",
    "turtle.done()\n"
   ]
  }
 ],
 "metadata": {
  "kernelspec": {
   "display_name": "Python 3 (ipykernel)",
   "language": "python",
   "name": "python3"
  },
  "language_info": {
   "codemirror_mode": {
    "name": "ipython",
    "version": 3
   },
   "file_extension": ".py",
   "mimetype": "text/x-python",
   "name": "python",
   "nbconvert_exporter": "python",
   "pygments_lexer": "ipython3",
   "version": "3.11.3"
  }
 },
 "nbformat": 4,
 "nbformat_minor": 5
}
