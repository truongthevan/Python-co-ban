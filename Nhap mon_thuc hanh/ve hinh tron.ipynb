{
 "cells": [
  {
   "cell_type": "markdown",
   "id": "8ffce759",
   "metadata": {},
   "source": [
    "Thực Hành Vẽ Hình tròn trên trang learn"
   ]
  },
  {
   "cell_type": "code",
   "execution_count": null,
   "id": "a106d859",
   "metadata": {},
   "outputs": [],
   "source": [
    "# lay thu vien turtle va khai bao t la hinh tron\n",
    "import turtle \n",
    "t = turtle.Turtle()\n",
    "# khai bao thong tin cua hinh tron,vien la 5 va mau vien den\n",
    "t.pensize(5)\n",
    "t.pencolor(\"black\")\n",
    "# mau cua hinh tron la do\n",
    "t.fillcolor(\"red\")\n",
    "# bat dau ve\n",
    "t.begin_fill()\n",
    "# hinh tron ban kinh 150\n",
    "t.circle(150)\n",
    "t.end_fill()\n",
    "turtle.done()\n"
   ]
  },
  {
   "cell_type": "code",
   "execution_count": null,
   "id": "e0120a4f",
   "metadata": {},
   "outputs": [],
   "source": [
    "import turtle\n",
    "t = turtle.Turtle()\n",
    "t.pensize(10)\n",
    "t.pencolor(\"blue\")\n",
    "t.fillcolor(\"green\")\n",
    "t.begin_fill()\n",
    "t.circle(100)\n",
    "t.end_fill()\n",
    "turtle.done()"
   ]
  },
  {
   "cell_type": "code",
   "execution_count": 1,
   "id": "dae659b1",
   "metadata": {},
   "outputs": [],
   "source": [
    "import turtle\n",
    "turtle.Turtle()\n",
    "turtle.Turtle().goto(0,-100)\n",
    "turtle.pensize(10)\n",
    "turtle.pencolor(\"blue\")\n",
    "turtle.fillcolor(\"green\")\n",
    "turtle.begin_fill()\n",
    "turtle.circle(100)\n",
    "turtle.end_fill()\n",
    "turtle.done()"
   ]
  }
 ],
 "metadata": {
  "kernelspec": {
   "display_name": "Python 3 (ipykernel)",
   "language": "python",
   "name": "python3"
  },
  "language_info": {
   "codemirror_mode": {
    "name": "ipython",
    "version": 3
   },
   "file_extension": ".py",
   "mimetype": "text/x-python",
   "name": "python",
   "nbconvert_exporter": "python",
   "pygments_lexer": "ipython3",
   "version": "3.11.3"
  }
 },
 "nbformat": 4,
 "nbformat_minor": 5
}
