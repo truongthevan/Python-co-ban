{
 "cells": [
  {
   "cell_type": "code",
   "execution_count": 4,
   "id": "b0de856a",
   "metadata": {},
   "outputs": [
    {
     "name": "stdout",
     "output_type": "stream",
     "text": [
      "hãy nhập vào số bất kì: 7\n",
      "a là sô odd\n"
     ]
    }
   ],
   "source": [
    "a = int(input(\"hãy nhập vào số bất kì: \"))\n",
    "\n",
    "a = \"even\" if a % 2 == 0 else \"odd\"\n",
    "print(f\"a là sô {a}\")"
   ]
  },
  {
   "cell_type": "code",
   "execution_count": 10,
   "id": "0d139c09",
   "metadata": {},
   "outputs": [
    {
     "name": "stdout",
     "output_type": "stream",
     "text": [
      "hãy nhập vào số tiền bạn đã tiêu: 300\n",
      "số tiền cần thanh toán 250.0\n"
     ]
    }
   ],
   "source": [
    "a = float(input(\"hãy nhập vào số tiền bạn đã tiêu: \"))\n",
    "\n",
    "if a < 75:\n",
    "    print(f\"số tiền cần thanh toán {a}\")\n",
    "elif a >= 75 and a < 100:\n",
    "    print(f\"số tiền cần thanh toán {a-15}\")\n",
    "elif a >= 100 and a < 150:\n",
    "    print(f\"số tiền cần thanh toán {a-25}\")\n",
    "else:\n",
    "    print(f\"số tiền cần thanh toán {a-50}\")\n",
    "          \n",
    "          "
   ]
  }
 ],
 "metadata": {
  "kernelspec": {
   "display_name": "Python 3 (ipykernel)",
   "language": "python",
   "name": "python3"
  },
  "language_info": {
   "codemirror_mode": {
    "name": "ipython",
    "version": 3
   },
   "file_extension": ".py",
   "mimetype": "text/x-python",
   "name": "python",
   "nbconvert_exporter": "python",
   "pygments_lexer": "ipython3",
   "version": "3.11.3"
  }
 },
 "nbformat": 4,
 "nbformat_minor": 5
}
